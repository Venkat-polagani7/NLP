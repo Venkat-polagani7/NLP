{
  "nbformat": 4,
  "nbformat_minor": 0,
  "metadata": {
    "colab": {
      "provenance": []
    },
    "kernelspec": {
      "name": "python3",
      "display_name": "Python 3"
    },
    "language_info": {
      "name": "python"
    }
  },
  "cells": [
    {
      "cell_type": "markdown",
      "source": [
        "#TASK 4 - 3 FEB 2023"
      ],
      "metadata": {
        "id": "gDxssq-EIQMZ"
      }
    },
    {
      "cell_type": "code",
      "execution_count": 4,
      "metadata": {
        "id": "lT0pJRfMBBBU"
      },
      "outputs": [],
      "source": [
        "#web-scraping\n",
        "import urllib\n",
        "from urllib import response\n",
        "from urllib import request\n"
      ]
    },
    {
      "cell_type": "code",
      "source": [
        "url = \"https://www.gutenberg.org/files/1661/1661-0.txt\"\n",
        "response = request.urlopen(url)\n",
        "raw = response.read().decode('utf8')"
      ],
      "metadata": {
        "id": "UrrCCiWoJHi7"
      },
      "execution_count": 6,
      "outputs": []
    },
    {
      "cell_type": "code",
      "source": [
        "import nltk\n",
        "nltk.download('punkt')\n",
        "from nltk.tokenize import word_tokenize\n",
        "tokens = word_tokenize(raw)"
      ],
      "metadata": {
        "colab": {
          "base_uri": "https://localhost:8080/"
        },
        "id": "jf_CD9rgKO1C",
        "outputId": "ee568242-0a56-4834-e1b0-0fa73774c09e"
      },
      "execution_count": 8,
      "outputs": [
        {
          "output_type": "stream",
          "name": "stderr",
          "text": [
            "[nltk_data] Downloading package punkt to /root/nltk_data...\n",
            "[nltk_data]   Unzipping tokenizers/punkt.zip.\n"
          ]
        }
      ]
    },
    {
      "cell_type": "code",
      "source": [
        "print(tokens[:200])"
      ],
      "metadata": {
        "colab": {
          "base_uri": "https://localhost:8080/"
        },
        "id": "OYT4z2ZHKuzm",
        "outputId": "03b56b93-9c1d-4ab8-d775-6e387ab8f9ae"
      },
      "execution_count": 10,
      "outputs": [
        {
          "output_type": "stream",
          "name": "stdout",
          "text": [
            "['\\ufeffThe', 'Project', 'Gutenberg', 'eBook', 'of', 'The', 'Adventures', 'of', 'Sherlock', 'Holmes', ',', 'by', 'Arthur', 'Conan', 'Doyle', 'This', 'eBook', 'is', 'for', 'the', 'use', 'of', 'anyone', 'anywhere', 'in', 'the', 'United', 'States', 'and', 'most', 'other', 'parts', 'of', 'the', 'world', 'at', 'no', 'cost', 'and', 'with', 'almost', 'no', 'restrictions', 'whatsoever', '.', 'You', 'may', 'copy', 'it', ',', 'give', 'it', 'away', 'or', 're-use', 'it', 'under', 'the', 'terms', 'of', 'the', 'Project', 'Gutenberg', 'License', 'included', 'with', 'this', 'eBook', 'or', 'online', 'at', 'www.gutenberg.org', '.', 'If', 'you', 'are', 'not', 'located', 'in', 'the', 'United', 'States', ',', 'you', 'will', 'have', 'to', 'check', 'the', 'laws', 'of', 'the', 'country', 'where', 'you', 'are', 'located', 'before', 'using', 'this', 'eBook', '.', 'Title', ':', 'The', 'Adventures', 'of', 'Sherlock', 'Holmes', 'Author', ':', 'Arthur', 'Conan', 'Doyle', 'Release', 'Date', ':', 'November', '29', ',', '2002', '[', 'eBook', '#', '1661', ']', '[', 'Most', 'recently', 'updated', ':', 'May', '20', ',', '2019', ']', 'Language', ':', 'English', 'Character', 'set', 'encoding', ':', 'UTF-8', 'Produced', 'by', ':', 'an', 'anonymous', 'Project', 'Gutenberg', 'volunteer', 'and', 'Jose', 'Menendez', '*', '*', '*', 'START', 'OF', 'THE', 'PROJECT', 'GUTENBERG', 'EBOOK', 'THE', 'ADVENTURES', 'OF', 'SHERLOCK', 'HOLMES', '*', '*', '*', 'cover', 'The', 'Adventures', 'of', 'Sherlock', 'Holmes', 'by', 'Arthur', 'Conan', 'Doyle', 'Contents', 'I', '.', 'A', 'Scandal', 'in', 'Bohemia', 'II', '.', 'The', 'Red-Headed', 'League', 'III', '.', 'A', 'Case', 'of', 'Identity']\n"
          ]
        }
      ]
    },
    {
      "cell_type": "code",
      "source": [
        "#BeautifulSoup\n",
        "#preprocessing - RE to clean any html tags\n",
        "#PoS tagging\n",
        "#!!"
      ],
      "metadata": {
        "id": "NGiZIvbAMXI8"
      },
      "execution_count": null,
      "outputs": []
    },
    {
      "cell_type": "code",
      "source": [
        "#PorterStemmer\n",
        "import nltk\n",
        "from nltk.stem import PorterStemmer\n",
        "porter = PorterStemmer()\n",
        "print(porter.stem(\"happiness\"))\n",
        "print(porter.stem(\"joyous\"))\n",
        "print(porter.stem(\"cacti\"))\n"
      ],
      "metadata": {
        "colab": {
          "base_uri": "https://localhost:8080/"
        },
        "id": "V-sQebZlMjRI",
        "outputId": "d700ed78-0b47-454a-f5fa-7cfbb3ddd76d"
      },
      "execution_count": 25,
      "outputs": [
        {
          "output_type": "stream",
          "name": "stdout",
          "text": [
            "happi\n",
            "joyou\n",
            "cacti\n"
          ]
        }
      ]
    },
    {
      "cell_type": "code",
      "source": [
        "#Lancaster stemmer\n",
        "import nltk\n",
        "from nltk.stem import LancasterStemmer\n",
        "lancaster = LancasterStemmer()\n",
        "print(porter.stem(\"happiness\")) \n",
        "print(porter.stem(\"joyous\"))\n",
        "print(porter.stem(\"cacti\"))"
      ],
      "metadata": {
        "colab": {
          "base_uri": "https://localhost:8080/"
        },
        "id": "F-2UAOW0NURc",
        "outputId": "cd64c0bd-eebd-4af4-e568-af824b2c2f36"
      },
      "execution_count": 21,
      "outputs": [
        {
          "output_type": "stream",
          "name": "stdout",
          "text": [
            "happy\n",
            "joy\n",
            "cact\n"
          ]
        }
      ]
    },
    {
      "cell_type": "code",
      "source": [
        "#Regexp stemmer\n",
        "import nltk\n",
        "from nltk.stem import RegexpStemmer\n",
        "regexp = RegexpStemmer('ing')\n",
        "porter.stem('walking')\n"
      ],
      "metadata": {
        "colab": {
          "base_uri": "https://localhost:8080/",
          "height": 35
        },
        "id": "CmVY5hjMNt7C",
        "outputId": "b4b43b08-024b-4163-86e0-f57228b3ebd4"
      },
      "execution_count": 22,
      "outputs": [
        {
          "output_type": "execute_result",
          "data": {
            "text/plain": [
              "'walk'"
            ],
            "application/vnd.google.colaboratory.intrinsic+json": {
              "type": "string"
            }
          },
          "metadata": {},
          "execution_count": 22
        }
      ]
    },
    {
      "cell_type": "code",
      "source": [
        "#snowball stemmer\n",
        "import nltk\n",
        "from nltk.stem import SnowballStemmer\n",
        "snowball = SnowballStemmer('french')\n",
        "print(snowball.stem('manges'))\n",
        "print(snowball.stem('parles'))"
      ],
      "metadata": {
        "colab": {
          "base_uri": "https://localhost:8080/"
        },
        "id": "ABHVgeI0OfbI",
        "outputId": "e982d72f-273d-4347-be63-05880999505d"
      },
      "execution_count": 24,
      "outputs": [
        {
          "output_type": "stream",
          "name": "stdout",
          "text": [
            "mang\n",
            "parl\n"
          ]
        }
      ]
    },
    {
      "cell_type": "code",
      "source": [
        "#german\n",
        "import nltk\n",
        "from nltk.stem import SnowballStemmer\n",
        "snowball = SnowballStemmer('german')\n",
        "print(snowball.stem('spricht'))\n",
        "print(snowball.stem('isst'))"
      ],
      "metadata": {
        "colab": {
          "base_uri": "https://localhost:8080/"
        },
        "id": "V_Uk6a7zPUYo",
        "outputId": "155093fd-83d8-4de7-fd7d-e11ed21ecaf8"
      },
      "execution_count": 27,
      "outputs": [
        {
          "output_type": "stream",
          "name": "stdout",
          "text": [
            "spricht\n",
            "isst\n"
          ]
        }
      ]
    },
    {
      "cell_type": "code",
      "source": [
        "#from nltk.stem import PorterStemmer\n",
        "porter = PorterStemmer()\n",
        "text = \"\"\"I just wanted to send you a note of appreciation to thank you for helping me reach my goals today. I could not have done it without your support and advice. I am grateful that you took the time out of your day to help me. You're a one-of-a-kind boss!\"\"\"\n",
        "stemmed = [porter.stem(token) for token in text.split(\" \")]\n"
      ],
      "metadata": {
        "id": "hNxd33nBP7v9"
      },
      "execution_count": 35,
      "outputs": []
    },
    {
      "cell_type": "code",
      "source": [
        "print(stemmed)"
      ],
      "metadata": {
        "colab": {
          "base_uri": "https://localhost:8080/"
        },
        "id": "Qugzrt0rRJ9_",
        "outputId": "955d155f-cc02-4317-c37c-ec60ab5409df"
      },
      "execution_count": 32,
      "outputs": [
        {
          "output_type": "stream",
          "name": "stdout",
          "text": [
            "['i', 'just', 'want', 'to', 'send', 'you', 'a', 'note', 'of', 'appreci', 'to', 'thank', 'you', 'for', 'help', 'me', 'reach', 'my', 'goal', 'today.', 'i', 'could', 'not', 'have', 'done', 'it', 'without', 'your', 'support', 'and', 'advice.', 'i', 'am', 'grate', 'that', 'you', 'took', 'the', 'time', 'out', 'of', 'your', 'day', 'to', 'help', 'me.', \"you'r\", 'a', 'one-of-a-kind', 'boss!']\n"
          ]
        }
      ]
    },
    {
      "cell_type": "code",
      "source": [
        "lancaster = LancasterStemmer()\n",
        "text = \"\"\"Government at the Centre is using common people's money to support their closest friends. Congress party has decided to have nationwide agitation across districts of the country in front of LIC and SBI offices on Monday,\"\"\"\n",
        "lancasterstemmed = [lancaster.stem(token) for token in text.split(\" \")]\n",
        "print(lancasterstemmed)"
      ],
      "metadata": {
        "colab": {
          "base_uri": "https://localhost:8080/"
        },
        "id": "RtPpwD4BRdxB",
        "outputId": "06d7a19e-5488-4ce5-8c7b-a929361b45a0"
      },
      "execution_count": 34,
      "outputs": [
        {
          "output_type": "stream",
          "name": "stdout",
          "text": [
            "['govern', 'at', 'the', 'cent', 'is', 'us', 'common', \"people's\", 'money', 'to', 'support', 'their', 'closest', 'friends.', 'congress', 'party', 'has', 'decid', 'to', 'hav', 'nationwid', 'agit', 'across', 'district', 'of', 'the', 'country', 'in', 'front', 'of', 'lic', 'and', 'sbi', 'off', 'on', 'monday,']\n"
          ]
        }
      ]
    },
    {
      "cell_type": "code",
      "source": [
        "#lemmatization\n",
        "import nltk\n",
        "nltk.download('wordnet')\n",
        "nltk.download('omw-1.4')\n",
        "from nltk.stem import WordNetLemmatizer\n",
        "lemma = WordNetLemmatizer()"
      ],
      "metadata": {
        "colab": {
          "base_uri": "https://localhost:8080/"
        },
        "id": "cxhs6rpDSP86",
        "outputId": "fcb36d50-a921-432f-a004-f3c7a7aa8037"
      },
      "execution_count": 42,
      "outputs": [
        {
          "output_type": "stream",
          "name": "stderr",
          "text": [
            "[nltk_data] Downloading package wordnet to /root/nltk_data...\n",
            "[nltk_data]   Package wordnet is already up-to-date!\n",
            "[nltk_data] Downloading package omw-1.4 to /root/nltk_data...\n",
            "[nltk_data]   Package omw-1.4 is already up-to-date!\n"
          ]
        }
      ]
    },
    {
      "cell_type": "code",
      "source": [
        "print(lemma.lemmatize(\"am\"))\n",
        "print(lemma.lemmatize('mice'))\n",
        "print(lemma.lemmatize(\"am\",pos='v'))\n",
        "print(lemma.lemmatize(\"better\",pos='v'))\n"
      ],
      "metadata": {
        "colab": {
          "base_uri": "https://localhost:8080/"
        },
        "id": "wLVTExP4S9qA",
        "outputId": "097e70ad-7e77-4bf7-b64a-282f2147abe3"
      },
      "execution_count": 49,
      "outputs": [
        {
          "output_type": "stream",
          "name": "stdout",
          "text": [
            "am\n",
            "mouse\n",
            "be\n",
            "better\n"
          ]
        }
      ]
    },
    {
      "cell_type": "code",
      "source": [],
      "metadata": {
        "id": "ultaV0z5TkQE"
      },
      "execution_count": null,
      "outputs": []
    }
  ]
}