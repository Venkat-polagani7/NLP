{
  "nbformat": 4,
  "nbformat_minor": 0,
  "metadata": {
    "colab": {
      "provenance": []
    },
    "kernelspec": {
      "name": "python3",
      "display_name": "Python 3"
    },
    "language_info": {
      "name": "python"
    }
  },
  "cells": [
    {
      "cell_type": "code",
      "execution_count": 1,
      "metadata": {
        "colab": {
          "base_uri": "https://localhost:8080/"
        },
        "id": "xk0wTCIsxtTg",
        "outputId": "5c29bd45-7233-4501-8271-35967eacf1f8"
      },
      "outputs": [
        {
          "output_type": "execute_result",
          "data": {
            "text/plain": [
              "CountVectorizer(binary=True)"
            ]
          },
          "metadata": {},
          "execution_count": 1
        }
      ],
      "source": [
        "import sklearn\n",
        "from sklearn.feature_extraction.text import CountVectorizer\n",
        "vect = CountVectorizer(binary = True)\n",
        "\n",
        "corpus = [\"\"\"On behalf of the great state of Illinois, crossroads of a nation, Land of Lincoln, let me express\n",
        "my deepest gratitude for the privilege of addressing this convention.\n",
        "Tonight is a particular honor for me because, let’s face it, my presence on this stage is pretty\n",
        "unlikely. My father was a foreign student, born and raised in a small village in Kenya. He grew\n",
        "up herding goats, went to school in a tin-roof shack. His father -- my grandfather -- was a\n",
        "cook, a domestic servant to the British.\n",
        "But my grandfather had larger dreams for his son. Through hard work and perseverance my\n",
        "father got a scholarship to study in a magical place, America, that shone as a beacon of\n",
        "freedom and opportunity to so many who had come before.\n",
        "While studying here, my father met my mother. She was born in a town on the other side of\n",
        "the world, in Kansas. Her father worked on oil rigs and farms through most of the Depression.\n",
        "The day after Pearl Harbor my grandfather signed up for duty; joined Patton’s army, marched\n",
        "across Europe. Back home, my grandmother raised a baby and went to work on a bomber\n",
        "assembly line. After the war, they studied on the G.I. Bill, bought a house through F.H.A., and\n",
        "later moved west all the way to Hawaii in search of opportunity\n",
        "And they, too, had big dreams for their daughter. A common dream, born of two continents.\n",
        "My parents shared not only an improbable love, they shared an abiding faith in the\n",
        "possibilities of this nation. They would give me an African name, Barack, or ”blessed,”\n",
        "believing that in a tolerant America your name is no barrier to success. They imagined -- They\n",
        "imagined me going to the best schools in the land, even though they weren’t rich, because in\n",
        "a generous America you don’t have to be rich to achieve your potential.\n",
        "They're both passed away now. And yet, I know that on this night they look down on me with\n",
        "great pride.\n",
        "They stand here, and I stand here today, grateful for the diversity of my heritage, aware that\n",
        "my parents’ dreams live on in my two precious daughters. I stand here knowing that my story\n",
        "is part of the larger American story, that I owe a debt to all of those who came before me,\n",
        "and that, in no other country on earth, is my story even possible.\n",
        "Tonight, we gather to affirm the greatness of our Nation -- not because of the height of our\n",
        "skyscrapers, or the power of our military, or the size of our economy. Our pride is based on a\n",
        "very simple premise, summed up in a declaration made over two hundred years ago:\n",
        "We hold these truths to be self-evident, that all men are created equal, that they are\n",
        "endowed by their Creator with certain inalienable rights, that among these are Life,\n",
        "Liberty and the pursuit of Happiness.\n",
        "That is the true genius of America, a faith -- a faith in simple dreams, an insistence on small\n",
        "miracles; that we can tuck in our children at night and know that they are fed and clothed and\n",
        "safe from harm; that we can say what we think, write what we think, without hearing a\n",
        "sudden knock on the door; that we can have an idea and start our own business without\n",
        "paying a bribe; that we can participate in the political process without fear of retribution, and\n",
        "that our votes will be counted -- at least most of the time.\n",
        "This year, in this election we are called to reaffirm our values and our commitments, to hold\n",
        "them against a hard reality and see how we're measuring up to the legacy of our forbearers\n",
        "and the promise of future generations.\n",
        "And fellow Americans, Democrats, Republicans, Independents, I say to you tonight: We have\n",
        "more work to do -- more work to do for the workers I met in Galesburg, Illinois, who are\n",
        "losing their union jobs at the Maytag plant that’s moving to Mexico, and now are having to\n",
        "compete with their own children for jobs that pay seven bucks an hour; more to do for the\n",
        "Now, don’t get me wrong. The people I meet -- in small towns and big cities, in diners and\n",
        "office parks -- they don’t expect government to solve all their problems. They know they have\n",
        "to work hard to get ahead, and they want to. Go into the collar counties around Chicago, and\n",
        "people will tell you they don’t want their tax money wasted, by a welfare agency or by the\n",
        "Pentagon. Go in -- Go into any inner city neighborhood, and folks will tell you that\n",
        "government alone can’t teach our kids to learn; they know that parents have to teach, that\n",
        "children can’t achieve unless we raise their expectations and turn off the television sets and\n",
        "eradicate the slander that says a black youth with a book is acting white. They know those\n",
        "things.\n",
        "People don’t expect -- People don't expect government to solve all their problems. But they\n",
        "sense, deep in their bones, that with just a slight change in priorities, we can make sure that\n",
        "every child in America has a decent shot at life, and that the doors of opportunity remain open\n",
        "to all.\n",
        "They know we can do better. And they want that choice.\n",
        "In this election, we offer that choice. Our Party has chosen a man to lead us who embodies\n",
        "the best this country has to offer. And that man is John Kerry.\n",
        "John Kerry understands the ideals of community, faith, and service because they’ve defined\n",
        "his life. From his heroic service to Vietnam, to his years as a prosecutor and lieutenant\n",
        "governor, through two decades in the United States Senate, he's devoted himself to this\n",
        "country. Again and again, we’ve seen him make tough choices when easier ones were\n",
        "available.\n",
        "His values and his record affirm what is best in us. John Kerry believes in an America where\n",
        "hard work is rewarded; so instead of offering tax breaks to companies shipping jobs overseas,\n",
        "he offers them to companies creating jobs here at home.\n",
        "John Kerry believes in an America where all Americans can afford the same health coverage\n",
        "our politicians in Washington have for themselves.\n",
        "John Kerry believes in energy independence, so we aren’t held hostage to the profits of oil\n",
        "companies, or the sabotage of foreign oil fields.\n",
        "John Kerry believes in the Constitutional freedoms that have made our country the envy of\n",
        "the world, and he will never sacrifice our basic liberties, nor use faith as a wedge to divide us.\n",
        "And John Kerry believes that in a dangerous world war must be an option sometimes, but it\n",
        "should never be the first option.\n",
        "You know, a while back -- awhile back I met a young man named Shamus in a V.F.W. Hall in\n",
        "East Moline, Illinois. He was a good-looking kid -- six two, six three, clear eyed, with an easy\n",
        "smile. He told me he’d joined the Marines and was heading to Iraq the following week. And as\n",
        "I listened to him explain why he’d enlisted, the absolute faith he had in our country and its\n",
        "leaders, his devotion to duty and service, I thought this young man was all that any of us\n",
        "might ever hope for in a child.\n",
        "But then I asked myself, \"Are we serving Shamus as well as he is serving us?\"\n",
        "I thought of the 900 men and women -- sons and daughters, husbands and wives, friends and\n",
        "neighbors, who won’t be returning to their own hometowns. I thought of the families I’ve met\n",
        "who were struggling to get by without a loved one’s full income, or whose loved ones had\n",
        "returned with a limb missing or nerves shattered, but still lacked long-term health benefits\n",
        "because they were Reservists.\n",
        "When we send our young men and women into harm’s way, we have a solemn obligation not\n",
        "to fudge the numbers or shade the truth about why they’re going, to care for their families\n",
        "while they’re gone, to tend to the soldiers upon their return, and to never ever go to war\n",
        "without enough troops to win the war, secure the peace, and earn the respect of the world.\n",
        "Now -- Now let me be clear. Let me be clear. We have real enemies in the world. These\n",
        "enemies must be found. They must be pursued. And they must be defeated. John Kerry knows\n",
        "this. And just as Lieutenant Kerry did not hesitate to risk his life to protect the men who\n",
        "served with him in Vietnam, President Kerry will not hesitate one moment to use our military\n",
        "might to keep America safe and secure.\n",
        "John Kerry believes in America. And he knows that it’s not enough for just some of us to\n",
        "prosper -- for alongside our famous individualism, there’s another ingredient in the American\n",
        "saga, a belief that we’re all connected as one people. If there is a child on the south side of\n",
        "Chicago who can’t read, that matters to me, even if it’s not my child. \n",
        "America! Tonight, if you feel the same energy that I do, if you feel the same urgency that I\n",
        "do, if you feel the same passion that I do, if you feel the same hopefulness that I do -- if we\n",
        "do what we must do, then I have no doubt that all across the country, from Florida to Oregon,\n",
        "from Washington to Maine, the people will rise up in November, and John Kerry will be sworn\n",
        "in as President, and John Edwards will be sworn in as Vice President, and this country will\n",
        "reclaim its promise, and out of this long political darkness a brighter day will come.\n",
        "Thank you very much everybody.\n",
        "God bless you.\n",
        "Thank you.\"\"\"]\n",
        "vect.fit(corpus)"
      ]
    },
    {
      "cell_type": "code",
      "source": [
        "vocab = vect.vocabulary_\n",
        "for key in vocab.keys():\n",
        "  print(\"{}:{}\".format(key,vocab[key]))"
      ],
      "metadata": {
        "id": "liWhFUO9ybjG"
      },
      "execution_count": null,
      "outputs": []
    },
    {
      "cell_type": "code",
      "source": [
        "vect.transform([\"It is not just enough to learn NLP you have to apply it\"]).toarray()"
      ],
      "metadata": {
        "id": "s3pjjrKMy46c"
      },
      "execution_count": null,
      "outputs": []
    },
    {
      "cell_type": "code",
      "source": [
        "from sklearn.metrics.pairwise import cosine_similarity\n",
        "similarity = cosine_similarity(vect.transform([\"\"\" Thank you very much, Mr. President; Ladies and Gentlemen of the Senate:\n",
        "I have to say that I didn't anticipate speaking today, but the importance, I think, of this issue\n",
        "is one in which I feel it's important for me to address this body.\n",
        "You know, during the election I had the occasion of meeting a woman who had supported me\n",
        "in my campaign. And she decided to come to shake my hand and take a photograph. A\n",
        "wonderful woman, she wasn't asking for anything, and I was very grateful that she took time\n",
        "to come by. It was a[n] unexceptional moment except for the fact that she was born in 1894.\n",
        "And her name was Marguerite Lewis, an African-American woman who had been born in\n",
        "Louisiana, born in the shadow of slavery, born at a time when lynchings were commonplace,\n",
        "born at a time when African-Americans and women could not vote\"\"\"]).toarray(),vect.transform([\"\"\"Good morning President Taylor, Board of Trustees, faculty, parents, family, friends, the\n",
        "community of Galesburg, the class of 1955 -- which I understand was out partying last night,\n",
        "and yet still showed up here on time -- and most of all, the Class of 2005. Congratulations on\n",
        "your graduation, and thank you -- thank you for the honor of allowing me to be a part of it.\n",
        "Thank you also, Mr. President, for this honorary degree. It was only a couple of years ago that\n",
        "I stopped paying my student loans in law school. Had I known it was this easy, I would have\n",
        "ran [sic] for the United States Senate earlier.\n",
        "You know, it has been about six months now since you sent me to Washington as your United\n",
        "States Senator. I recognize that not all of you voted for me, so for those of you muttering\n",
        "under your breath \"I didn’t send you anywhere,\" that's ok too. Maybe we’ll hold -- What do\n",
        "you call it? -- a little Pumphandle after the ceremony. Change your mind for the next time.\"\"\"]).toarray())\n",
        "print(similarity)"
      ],
      "metadata": {
        "colab": {
          "base_uri": "https://localhost:8080/"
        },
        "id": "EBYT4G73yjjv",
        "outputId": "4974137a-f98b-4f80-d783-0aeab3b41c7a"
      },
      "execution_count": 5,
      "outputs": [
        {
          "output_type": "stream",
          "name": "stdout",
          "text": [
            "[[0.37596031]]\n"
          ]
        }
      ]
    },
    {
      "cell_type": "code",
      "source": [
        "from sklearn.metrics.pairwise import cosine_similarity\n",
        "sim = cosine_similarity(vect.transform([\"\"\" Mr. President, today the nation mourns a genuine American hero. As most of you know, Rosa\n",
        "Parks died yesterday in her home in Detroit. Through her courage, and by her example, Rosa\n",
        "Parks helped lay the foundation for a country that could begin to live up to its creed.\n",
        "Her life and her brave actions reminded each and every one of us of our personal\n",
        "responsibilities to stand up for what's right and the central truth of the American experience\n",
        "that our greatness as a nation derives from seemingly ordinary people doing extraordinary\n",
        "things.\n",
        "Rosa Parks' life was a lesson in perseverance. As a child, she grew up listening to the Ku Klux\n",
        "Klan ride by her house, fearing that her house would be burned down. In her small hometown\n",
        "in Alabama, she attended a one-room school for African-American children that only went\n",
        "through the sixth grade. When she moved to Montgomery, Alabama, to continue her\n",
        "schooling, she was forced to clean classrooms after school to pay her tuition. Although she\n",
        "attended Alabama State Teachers College, Rosa Parks would late -- later make her living as a\n",
        "seamstress and housekeeper\"\"\"]).toarray(),vect.transform([\"\"\" You know, four years ago, following the most devastating attack in our history, this Body\n",
        "passed the USA PATRIOT Act in order to give our Nation's law enforcement the tools they\n",
        "needed to track down terrorists who plot and lurk within our own borders and all over the\n",
        "world; terrorists who, right now, are looking to exploit weaknesses in our laws and our\n",
        "security to carry out attacks that may be even deadlier than those that took place on\n",
        "September 11th.\n",
        "We all agree that we need legislation to make it harder for suspected terrorists to go\n",
        "undetected in this country. And we all agree that we needed to make it harder for them to\n",
        "organize and strategize and get flight licenses and sneak across our borders. Americans\n",
        "everywhere wanted to do that.\"\"\"]).toarray())\n",
        "print(sim)\n"
      ],
      "metadata": {
        "colab": {
          "base_uri": "https://localhost:8080/"
        },
        "id": "aOZWoOwIzeq3",
        "outputId": "b44ad875-e01c-4499-817d-fa5186d1e9ca"
      },
      "execution_count": 10,
      "outputs": [
        {
          "output_type": "stream",
          "name": "stdout",
          "text": [
            "[[0.30036065]]\n"
          ]
        }
      ]
    }
  ]
}